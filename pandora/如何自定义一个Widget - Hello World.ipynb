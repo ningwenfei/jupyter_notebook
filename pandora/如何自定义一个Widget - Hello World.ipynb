{
 "cells": [
  {
   "cell_type": "markdown",
   "metadata": {},
   "source": [
    "2017/09/07-08"
   ]
  },
  {
   "cell_type": "markdown",
   "metadata": {
    "slideshow": {
     "slide_type": "slide"
    }
   },
   "source": [
    "# 自定义一个widget"
   ]
  },
  {
   "cell_type": "markdown",
   "metadata": {},
   "source": [
    "通信各部件如下\n",
    "\n",
    "![Widget layer](images/layout.png)\n",
    "\n",
    "如果要自定义一个widget, 得在前、后端都需要定义 "
   ]
  },
  {
   "cell_type": "markdown",
   "metadata": {
    "slideshow": {
     "slide_type": "slide"
    }
   },
   "source": [
    "# 开始一个HelloWorldWidget"
   ]
  },
  {
   "cell_type": "markdown",
   "metadata": {
    "slideshow": {
     "slide_type": "slide"
    }
   },
   "source": [
    "## 后端 (python)"
   ]
  },
  {
   "cell_type": "markdown",
   "metadata": {},
   "source": [
    "### DOMWidget and Widget"
   ]
  },
  {
   "cell_type": "markdown",
   "metadata": {},
   "source": [
    "\n",
    "定义一个widget类, 可以基于DOMVidget或者是Widgets, 区别在于前者以Dom结构来渲染；后者则以非Dom渲染(比如WebGL)，根据实际的需求来选择继承"
   ]
  },
  {
   "cell_type": "markdown",
   "metadata": {},
   "source": [
    "### 几个required的props"
   ]
  },
  {
   "cell_type": "markdown",
   "metadata": {
    "slideshow": {
     "slide_type": "slide"
    }
   },
   "source": [
    "* _view_name 前端中view的名字\n",
    "* _view_module 前端中定义的模块名"
   ]
  },
  {
   "cell_type": "code",
   "execution_count": null,
   "metadata": {
    "collapsed": true
   },
   "outputs": [],
   "source": [
    "import ipywidgets as widgets\n",
    "from traitlets import Unicode\n",
    "\n",
    "class HelloWidget(widgets.DOMWidget):\n",
    "    _view_name = Unicode('HelloView').tag(sync=True)\n",
    "    _view_module = Unicode('hello').tag(sync=True)\n",
    "    _view_module_version = Unicode('0.1.0').tag(sync=True)\n",
    "    value = Unicode('Hello World!').tag(sync=True)"
   ]
  },
  {
   "cell_type": "markdown",
   "metadata": {},
   "source": [
    "**`sync=True` keyword argument** 处理后端的这个属性值同步到前端"
   ]
  },
  {
   "cell_type": "markdown",
   "metadata": {
    "slideshow": {
     "slide_type": "slide"
    }
   },
   "source": [
    "## 前端 (js)"
   ]
  },
  {
   "cell_type": "markdown",
   "metadata": {},
   "source": [
    "### models and views"
   ]
  },
  {
   "cell_type": "markdown",
   "metadata": {},
   "source": [
    "Jupyter框架前端部分依赖于Backbone.js, 这是一个经典的MVC前端框架， 定义在后端中的各种widgets会与前端中对应的Models数据同步，在上面的例子中，**`_view_name`** 在Backbone其中的作用就是用于联结view和model"
   ]
  },
  {
   "cell_type": "markdown",
   "metadata": {
    "slideshow": {
     "slide_type": "slide"
    }
   },
   "source": [
    "### define the view"
   ]
  },
  {
   "cell_type": "markdown",
   "metadata": {},
   "source": [
    "定义你的HelloView，从**`DOMWidgetView.extend`**继承，两个required的属性是_view_name和_view_module"
   ]
  },
  {
   "cell_type": "code",
   "execution_count": null,
   "metadata": {
    "collapsed": true
   },
   "outputs": [],
   "source": [
    "%%javascript\n",
    "require.undef('hello');\n",
    "var HelloView = widget.DOMWidgetView.extend({\n",
    "    //...\n",
    "});"
   ]
  },
  {
   "cell_type": "markdown",
   "metadata": {
    "slideshow": {
     "slide_type": "slide"
    }
   },
   "source": [
    "### render method"
   ]
  },
  {
   "cell_type": "markdown",
   "metadata": {},
   "source": [
    "接下来最重要的方法 **`render`**,这是自定义widget渲染的组合逻辑的地方（用**`this.$el`**来操作widget默认的div元素）\n",
    "\n",
    "访问与某个**`view`**实例相关的**`model`**，用**`view`**的**`this.model` props**获取**`get`和`set`** methods与**Backbone**的**`model`**来交互（据手册上提示， 用**`set`**方法要小心，之后得调用**`touch`**方法，以分发这个属性值已经被更改的事件)"
   ]
  },
  {
   "cell_type": "code",
   "execution_count": null,
   "metadata": {
    "collapsed": true
   },
   "outputs": [],
   "source": [
    "%%javascript\n",
    "require.undef('hello');\n",
    "define('hello', [\"@jupyter-widgets/base\"], function(widget){\n",
    "    \n",
    "    var HelloView = widget.DOMWidgetView.extend({\n",
    "        \n",
    "         render: function(){ \n",
    "            this.$el.text(this.model.get('value')); \n",
    "        }\n",
    "    });\n",
    "});"
   ]
  },
  {
   "cell_type": "markdown",
   "metadata": {},
   "source": [
    "### 动态update model <---> view"
   ]
  },
  {
   "cell_type": "code",
   "execution_count": null,
   "metadata": {
    "collapsed": true
   },
   "outputs": [],
   "source": [
    "%%javascript\n",
    "require.undef('hello');\n",
    "define('hello', [\"@jupyter-widgets/base\"], function(widget){\n",
    "    \n",
    "    var HelloView = widget.DOMWidgetView.extend({\n",
    "        \n",
    "        render: function(){ \n",
    "            this.value_changed();\n",
    "            this.model.on('change:value', this.value_changed, this);\n",
    "        },\n",
    "        \n",
    "        value_changed: function() {\n",
    "            this.$el.text(this.model.get('value')); \n",
    "            console.log('value has changed!');\n",
    "        },\n",
    "    });\n",
    "    return { HelloView: HelloView}\n",
    "});"
   ]
  },
  {
   "cell_type": "markdown",
   "metadata": {
    "slideshow": {
     "slide_type": "slide"
    }
   },
   "source": [
    "## 测试"
   ]
  },
  {
   "cell_type": "markdown",
   "metadata": {},
   "source": [
    "你可以点击相应的代码块来查看widget的运行结果"
   ]
  },
  {
   "cell_type": "code",
   "execution_count": null,
   "metadata": {
    "collapsed": true
   },
   "outputs": [],
   "source": [
    "w = HelloWidget()\n",
    "w"
   ]
  },
  {
   "cell_type": "code",
   "execution_count": null,
   "metadata": {
    "collapsed": true
   },
   "outputs": [],
   "source": [
    "w.value = 'hell World'"
   ]
  },
  {
   "cell_type": "markdown",
   "metadata": {
    "slideshow": {
     "slide_type": "slide"
    }
   },
   "source": [
    "# 扩展一下Hello World"
   ]
  },
  {
   "cell_type": "markdown",
   "metadata": {
    "slideshow": {
     "slide_type": "slide"
    }
   },
   "source": [
    "## 后端"
   ]
  },
  {
   "cell_type": "code",
   "execution_count": null,
   "metadata": {
    "collapsed": true
   },
   "outputs": [],
   "source": [
    "import ipywidgets as widgets\n",
    "from traitlets import Unicode, CInt\n",
    "class SpinnerWidget(widgets.DOMWidget):\n",
    "    _view_name = Unicode('SpinnerView').tag(sync=True)\n",
    "    _view_module = Unicode('spinner').tag(sync=True)\n",
    "    value = CInt(0).tag(sync=True)"
   ]
  },
  {
   "cell_type": "markdown",
   "metadata": {
    "slideshow": {
     "slide_type": "slide"
    }
   },
   "source": [
    "## 前端"
   ]
  },
  {
   "cell_type": "markdown",
   "metadata": {},
   "source": [
    "用**`.spinner`** 创建一个spinner元素， 在`$el`对象上调用其.spinner方法，但注意前后端的_view_name的值保持一致\n",
    "\n",
    "参考：[jQuery docs for the spinner control](https://jqueryui.com/spinner/) "
   ]
  },
  {
   "cell_type": "code",
   "execution_count": null,
   "metadata": {
    "collapsed": true
   },
   "outputs": [],
   "source": [
    "%%javascript\n",
    "define('spinner', [\"@jupyter-widgets/base\"], function(widget){\n",
    "    \n",
    "    var SpinnerView = widget.DOMWidgetView.extend({\n",
    "        \n",
    "        render: function(){ \n",
    "\n",
    "            var that = this;\n",
    "            this.$input = $('<input />');\n",
    "            this.$el.append(this.$input);\n",
    "            this.$spinner = this.$input.spinner({\n",
    "                change: function( event, ui ) {\n",
    "                    that.handle_spin();\n",
    "                },\n",
    "                spin: function( event, ui ) {\n",
    "                    that.handle_spin();\n",
    "                }\n",
    "            });\n",
    "            \n",
    "            this.value_changed();\n",
    "            this.model.on('change:value', this.value_changed, this);\n",
    "        },\n",
    "        \n",
    "        value_changed: function() {\n",
    "            this.$spinner.spinner('value', this.model.get('value'));\n",
    "        },\n",
    "        \n",
    "        handle_spin: function() {\n",
    "            this.model.set('value', this.$spinner.spinner('value'));\n",
    "            this.touch();\n",
    "        },\n",
    "    });\n",
    "    \n",
    "    return { SpinnerView: SpinnerView }\n",
    "});"
   ]
  },
  {
   "cell_type": "markdown",
   "metadata": {
    "collapsed": true,
    "slideshow": {
     "slide_type": "slide"
    }
   },
   "source": [
    "## 测试"
   ]
  },
  {
   "cell_type": "code",
   "execution_count": null,
   "metadata": {
    "collapsed": true
   },
   "outputs": [],
   "source": [
    "w = SpinnerWidget(value=5)\n",
    "w"
   ]
  },
  {
   "cell_type": "code",
   "execution_count": null,
   "metadata": {
    "collapsed": true
   },
   "outputs": [],
   "source": [
    "w.value"
   ]
  }
 ],
 "metadata": {
  "kernelspec": {
   "display_name": "Python 2",
   "language": "python",
   "name": "python2"
  },
  "language_info": {
   "codemirror_mode": {
    "name": "ipython",
    "version": 2
   },
   "file_extension": ".py",
   "mimetype": "text/x-python",
   "name": "python",
   "nbconvert_exporter": "python",
   "pygments_lexer": "ipython2",
   "version": "2.7.13"
  }
 },
 "nbformat": 4,
 "nbformat_minor": 1
}
